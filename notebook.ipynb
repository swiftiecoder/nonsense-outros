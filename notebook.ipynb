{
 "cells": [
  {
   "cell_type": "code",
   "execution_count": 45,
   "metadata": {},
   "outputs": [
    {
     "name": "stdout",
     "output_type": "stream",
     "text": [
      "(115, 2)\n"
     ]
    }
   ],
   "source": [
    "import pandas as pd\n",
    "\n",
    "# Read the CSV file\n",
    "data = pd.read_csv('nonsense_outros.csv')\n",
    "\n",
    "# Replace '\\n' with actual new lines in the DataFrame\n",
    "data.replace(r'\\\\n', '\\n', regex=True, inplace=True)\n",
    "\n",
    "# Adjust display options to show the full text\n",
    "pd.set_option('display.max_colwidth', None)\n",
    "\n",
    "print(data.shape)"
   ]
  },
  {
   "cell_type": "code",
   "execution_count": 46,
   "metadata": {},
   "outputs": [
    {
     "data": {
      "text/plain": [
       "\"Come over tonight my room is spotless\\nI'm sorry this outro is so chaotic\\nAtlanta it's official you're the hottest\""
      ]
     },
     "execution_count": 46,
     "metadata": {},
     "output_type": "execute_result"
    }
   ],
   "source": [
    "data['Nonsense Outro'][0]"
   ]
  },
  {
   "cell_type": "code",
   "execution_count": 47,
   "metadata": {},
   "outputs": [
    {
     "data": {
      "text/plain": [
       "'Soon cometh my album so exciting\\nMy heart doth pound beneath my breasts, so mighty\\nOutside Lands, it’s like thou art inside me'"
      ]
     },
     "execution_count": 47,
     "metadata": {},
     "output_type": "execute_result"
    }
   ],
   "source": [
    "data['Nonsense Outro'][114]"
   ]
  },
  {
   "cell_type": "code",
   "execution_count": 48,
   "metadata": {},
   "outputs": [
    {
     "data": {
      "text/html": [
       "<div>\n",
       "<style scoped>\n",
       "    .dataframe tbody tr th:only-of-type {\n",
       "        vertical-align: middle;\n",
       "    }\n",
       "\n",
       "    .dataframe tbody tr th {\n",
       "        vertical-align: top;\n",
       "    }\n",
       "\n",
       "    .dataframe thead th {\n",
       "        text-align: right;\n",
       "    }\n",
       "</style>\n",
       "<table border=\"1\" class=\"dataframe\">\n",
       "  <thead>\n",
       "    <tr style=\"text-align: right;\">\n",
       "      <th></th>\n",
       "      <th>input</th>\n",
       "      <th>output</th>\n",
       "      <th>instruction</th>\n",
       "    </tr>\n",
       "  </thead>\n",
       "  <tbody>\n",
       "    <tr>\n",
       "      <th>110</th>\n",
       "      <td>Saturday Night Live</td>\n",
       "      <td>He is 30 rock hard 'cause I said \"Hi\"\\nMy sense of humor is but I am not dry\\nSNL I just came for the first time</td>\n",
       "      <td>Generate a verse that creatively incorporates the given city name in a whimsical and slighly naughty way.</td>\n",
       "    </tr>\n",
       "    <tr>\n",
       "      <th>111</th>\n",
       "      <td>BBC1 Radio Live</td>\n",
       "      <td>BBC said I should keep it PG\\nBBC I wish I had it in me\\nThere's a double meaning if you dig deep</td>\n",
       "      <td>Generate a verse that creatively incorporates the given city name in a whimsical and slighly naughty way.</td>\n",
       "    </tr>\n",
       "    <tr>\n",
       "      <th>112</th>\n",
       "      <td>Governors Ball</td>\n",
       "      <td>Do I text him back? It's such a tough call\\nThat won't fit inside me, bro, I'm dumb small\\nPeople who hate pride can suck my gov balls</td>\n",
       "      <td>Generate a verse that creatively incorporates the given city name in a whimsical and slighly naughty way.</td>\n",
       "    </tr>\n",
       "    <tr>\n",
       "      <th>113</th>\n",
       "      <td>Capital's Summertime Ball</td>\n",
       "      <td>Boy, that thing so big I call it \"Wembley\"\\nI stay on that head and do it rent free\\nCapital FM you bloody wrecked me</td>\n",
       "      <td>Generate a verse that creatively incorporates the given city name in a whimsical and slighly naughty way.</td>\n",
       "    </tr>\n",
       "    <tr>\n",
       "      <th>114</th>\n",
       "      <td>Outside Lands</td>\n",
       "      <td>Soon cometh my album so exciting\\nMy heart doth pound beneath my breasts, so mighty\\nOutside Lands, it’s like thou art inside me</td>\n",
       "      <td>Generate a verse that creatively incorporates the given city name in a whimsical and slighly naughty way.</td>\n",
       "    </tr>\n",
       "  </tbody>\n",
       "</table>\n",
       "</div>"
      ],
      "text/plain": [
       "                         input  \\\n",
       "110        Saturday Night Live   \n",
       "111            BBC1 Radio Live   \n",
       "112             Governors Ball   \n",
       "113  Capital's Summertime Ball   \n",
       "114              Outside Lands   \n",
       "\n",
       "                                                                                                                                     output  \\\n",
       "110                        He is 30 rock hard 'cause I said \"Hi\"\\nMy sense of humor is but I am not dry\\nSNL I just came for the first time   \n",
       "111                                       BBC said I should keep it PG\\nBBC I wish I had it in me\\nThere's a double meaning if you dig deep   \n",
       "112  Do I text him back? It's such a tough call\\nThat won't fit inside me, bro, I'm dumb small\\nPeople who hate pride can suck my gov balls   \n",
       "113                   Boy, that thing so big I call it \"Wembley\"\\nI stay on that head and do it rent free\\nCapital FM you bloody wrecked me   \n",
       "114        Soon cometh my album so exciting\\nMy heart doth pound beneath my breasts, so mighty\\nOutside Lands, it’s like thou art inside me   \n",
       "\n",
       "                                                                                                   instruction  \n",
       "110  Generate a verse that creatively incorporates the given city name in a whimsical and slighly naughty way.  \n",
       "111  Generate a verse that creatively incorporates the given city name in a whimsical and slighly naughty way.  \n",
       "112  Generate a verse that creatively incorporates the given city name in a whimsical and slighly naughty way.  \n",
       "113  Generate a verse that creatively incorporates the given city name in a whimsical and slighly naughty way.  \n",
       "114  Generate a verse that creatively incorporates the given city name in a whimsical and slighly naughty way.  "
      ]
     },
     "execution_count": 48,
     "metadata": {},
     "output_type": "execute_result"
    }
   ],
   "source": [
    "# Add 'instruction' column\n",
    "instruction = \"Generate a verse that creatively incorporates the given city name in a whimsical and slighly naughty way.\"\n",
    "data['instruction'] = instruction\n",
    "\n",
    "data['City'] = data['City'].str.split(',').str[0]\n",
    "\n",
    "# Rename columns\n",
    "data.rename(columns={'City': 'input', 'Nonsense Outro': 'output'}, inplace=True)\n",
    "\n",
    "# Print the updated DataFrame\n",
    "data.tail()"
   ]
  },
  {
   "cell_type": "code",
   "execution_count": 50,
   "metadata": {},
   "outputs": [],
   "source": [
    "data.to_csv('training_nonsense.csv')"
   ]
  }
 ],
 "metadata": {
  "kernelspec": {
   "display_name": "Python 3",
   "language": "python",
   "name": "python3"
  },
  "language_info": {
   "codemirror_mode": {
    "name": "ipython",
    "version": 3
   },
   "file_extension": ".py",
   "mimetype": "text/x-python",
   "name": "python",
   "nbconvert_exporter": "python",
   "pygments_lexer": "ipython3",
   "version": "3.12.4"
  }
 },
 "nbformat": 4,
 "nbformat_minor": 2
}
